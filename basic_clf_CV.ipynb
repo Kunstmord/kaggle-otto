{
 "cells": [
  {
   "cell_type": "code",
   "execution_count": 1,
   "metadata": {
    "collapsed": false
   },
   "outputs": [],
   "source": [
    "import numpy as np\n",
    "import pandas as pd\n",
    "from sklearn.ensemble import GradientBoostingClassifier, RandomForestClassifier, AdaBoostClassifier, BaggingClassifier\n",
    "from sklearn.cross_validation import StratifiedShuffleSplit\n",
    "from sklearn.metrics import log_loss\n",
    "from sklearn.linear_model import LogisticRegression\n",
    "import datetime"
   ]
  },
  {
   "cell_type": "code",
   "execution_count": 2,
   "metadata": {
    "collapsed": false
   },
   "outputs": [],
   "source": [
    "df_train = pd.read_csv('raw_data/train.csv')"
   ]
  },
  {
   "cell_type": "code",
   "execution_count": 3,
   "metadata": {
    "collapsed": false
   },
   "outputs": [],
   "source": [
    "def convert_class_label_to_int(class_label):\n",
    "    return int(class_label[6:]) - 1"
   ]
  },
  {
   "cell_type": "code",
   "execution_count": 4,
   "metadata": {
    "collapsed": false
   },
   "outputs": [],
   "source": [
    "def find_means_stds(features_array):\n",
    "    means = [np.mean(features_array[:, i]) for i in range(features_array.shape[1])]\n",
    "    stds = [np.std(features_array[:, i]) for i in range(features_array.shape[1])]\n",
    "    return {'means': means, 'stds': stds}\n",
    "\n",
    "def z_score_feature(feature_slice, mean, std):\n",
    "    return (feature_slice - mean) / std"
   ]
  },
  {
   "cell_type": "code",
   "execution_count": 5,
   "metadata": {
    "collapsed": false
   },
   "outputs": [],
   "source": [
    "renamed_labels = [convert_class_label_to_int(i) for i in df_train['target'].values]\n",
    "feature_columns = ['feat_' + str(i + 1) for i in range(93)]\n",
    "df_train['renamed_labels'] = renamed_labels"
   ]
  },
  {
   "cell_type": "code",
   "execution_count": 6,
   "metadata": {
    "collapsed": false
   },
   "outputs": [],
   "source": [
    "mstddict = find_means_stds(df_train[feature_columns].values)\n",
    "for i in range(93):\n",
    "    df_train['feat_' + str(i + 1)] = z_score_feature(df_train['feat_' + str(i + 1)].values, mstddict['means'][i],\n",
    "                                                     mstddict['stds'][i])"
   ]
  },
  {
   "cell_type": "code",
   "execution_count": 9,
   "metadata": {
    "collapsed": false
   },
   "outputs": [
    {
     "name": "stdout",
     "output_type": "stream",
     "text": [
      "0.462545722068\n",
      "0.474198263909\n",
      "0.459274852433\n",
      "[0.46254572206801192, 0.47419826390899533, 0.45927485243277466] 0.465339612803\n"
     ]
    }
   ],
   "source": [
    "scoress = []\n",
    "sss = StratifiedShuffleSplit(df_train['renamed_labels'], n_iter=3, test_size=0.2, random_state=42)\n",
    "folder_id = 1\n",
    "curr_item = 0\n",
    "write_files = True\n",
    "# write_files = False\n",
    "for train_index, test_index in sss:\n",
    "#     clf2 = RandomForestClassifier(n_estimators=400, max_features=25, min_samples_split=3, verbose=1)\n",
    "    clf = GradientBoostingClassifier(n_estimators=700, max_depth=7, max_features=20, learning_rate=0.03)\n",
    "#     clf = BaggingClassifier(base_estimator=clf2, n_estimators=5)\n",
    "#     clf2 = AdaBoostClassifier(base_estimator=clf3, n_estimators=15)\n",
    "#     clf = CalibratedClassifierCV(base_estimator=clf2, method='isotonic')\n",
    "#     clf = AdaBoostClassifier(base_estimator=clf2, n_estimators=20)\n",
    "    data_train = df_train[feature_columns].values[train_index, :]\n",
    "    data_test = df_train[feature_columns].values[test_index, :]\n",
    "    labels_train = df_train['renamed_labels'].values[train_index]\n",
    "    labels_test = df_train['renamed_labels'].values[test_index]\n",
    "    clf.fit(data_train, labels_train)\n",
    "    pred = clf.predict_proba(data_test)\n",
    "    res = log_loss(labels_test, pred)\n",
    "    print(res)\n",
    "    scoress.append(res)\n",
    "    \n",
    "    if write_files:\n",
    "        predict_dict = {'Class_1': pred[:, 0]}\n",
    "        for j in range(8):\n",
    "            predict_dict['Class_' + str(j + 2)] = pred[:, j+1]\n",
    "        df_sub = pd.DataFrame(predict_dict)\n",
    "        fname = 'tmpsubs/' + str(folder_id) + '/gb_lr05_12_' + str(curr_item+1) + '.csv'\n",
    "        df_sub.to_csv(fname, index=False)\n",
    "    curr_item += 1\n",
    "print(scoress, sum(scoress) / len(scoress))"
   ]
  },
  {
   "cell_type": "code",
   "execution_count": null,
   "metadata": {
    "collapsed": true
   },
   "outputs": [],
   "source": []
  }
 ],
 "metadata": {
  "kernelspec": {
   "display_name": "Python 3",
   "language": "python",
   "name": "python3"
  },
  "language_info": {
   "codemirror_mode": {
    "name": "ipython",
    "version": 3
   },
   "file_extension": ".py",
   "mimetype": "text/x-python",
   "name": "python",
   "nbconvert_exporter": "python",
   "pygments_lexer": "ipython3",
   "version": "3.4.3"
  }
 },
 "nbformat": 4,
 "nbformat_minor": 0
}
