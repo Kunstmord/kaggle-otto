{
 "cells": [
  {
   "cell_type": "code",
   "execution_count": 1,
   "metadata": {
    "collapsed": false
   },
   "outputs": [],
   "source": [
    "import numpy as np\n",
    "import pandas as pd\n",
    "from sklearn.cross_validation import cross_val_score, StratifiedShuffleSplit\n",
    "from sklearn.metrics import log_loss"
   ]
  },
  {
   "cell_type": "code",
   "execution_count": 2,
   "metadata": {
    "collapsed": false
   },
   "outputs": [],
   "source": [
    "folder_id = 1\n",
    "fff = 'tmpsubs/' + str(folder_id) + '/'"
   ]
  },
  {
   "cell_type": "code",
   "execution_count": 3,
   "metadata": {
    "collapsed": true
   },
   "outputs": [],
   "source": [
    "def convert_class_label_to_int(class_label):\n",
    "    return int(class_label[6:]) - 1"
   ]
  },
  {
   "cell_type": "code",
   "execution_count": 6,
   "metadata": {
    "collapsed": false
   },
   "outputs": [],
   "source": [
    "base_names = ['nn_garf1_', 'nn_katz1_', 'nnlasagna3_', 'cb_rf5_',\n",
    "              'nn_dbn2_', 'gb_lr05_4_', 'xgb1_', 'xgb3_'] \n",
    "base_names = ['garfs1_', 'katzs1_', 'lass1_', 'cb_rf5_',\n",
    "              'nn_dbn2_', 'gb_lr05_4_', 'xgb1_', 'kittys1_', 'xgb3_'] \n",
    "# these are the prefixes of the files to be loaded, there are\n",
    "# 3 for each classifier\n",
    "\n",
    "\n",
    "tot_subs = len(base_names)\n",
    "data_names = [[], [], []]\n",
    "data_names[0] = [fff + name + '1.csv' for name in base_names]\n",
    "data_names[1] = [fff + name + '2.csv' for name in base_names]\n",
    "data_names[2] = [fff + name + '3.csv' for name in base_names]\n",
    "\n",
    "w_shape = [7] * (tot_subs - 1)  # the weights of each submission (except the last one) go from 0.0 to 0.35\n",
    "w_shape = [5, 6, 5, 5, 5, 5, 7, 7]  # or we can manually specify the max weight of each one\n",
    "\n",
    "w_shape.append(3)  # we're using 3-fold CV\n",
    "\n",
    "start_vals = [0.] * (tot_subs - 1)\n",
    "\n",
    "step_size = 0.05\n",
    "weight_results_array = np.ones(w_shape)  # we store the results in this array"
   ]
  },
  {
   "cell_type": "code",
   "execution_count": 7,
   "metadata": {
    "collapsed": false
   },
   "outputs": [],
   "source": [
    "data_dfs = []\n",
    "for data_fold in data_names:\n",
    "    tmp = []\n",
    "    for i in data_fold:\n",
    "        tmp.append(pd.read_csv(i))\n",
    "    data_dfs.append(tuple(tmp))"
   ]
  },
  {
   "cell_type": "code",
   "execution_count": 8,
   "metadata": {
    "collapsed": false
   },
   "outputs": [],
   "source": [
    "df_train = pd.read_csv('raw_data/train.csv')\n",
    "renamed_labels = [convert_class_label_to_int(i) for i in df_train['target'].values]\n",
    "df_train['renamed_labels'] = renamed_labels"
   ]
  },
  {
   "cell_type": "code",
   "execution_count": 9,
   "metadata": {
    "collapsed": false
   },
   "outputs": [
    {
     "name": "stdout",
     "output_type": "stream",
     "text": [
      "0\n",
      "1\n",
      "2\n"
     ]
    }
   ],
   "source": [
    "curr_id = 0\n",
    "sss = StratifiedShuffleSplit(df_train['renamed_labels'], n_iter=3, test_size=0.2, random_state=42)\n",
    "for train_index, test_index in sss:\n",
    "    print(curr_id)\n",
    "    it = np.nditer(weight_results_array[..., curr_id], flags=['multi_index'], op_flags=['writeonly'])\n",
    "    labels_test = df_train['renamed_labels'].values[test_index]\n",
    "    while not it.finished:\n",
    "        weights = [start_vals[mi[0]] + mi[1] * step_size for mi in enumerate(it.multi_index)]\n",
    "        if sum(weights) <= 1.:\n",
    "#             weights.append(1. - sum(weights))\n",
    "            pred = data_dfs[curr_id][0].values * weights[0]\n",
    "            for di, w in enumerate(weights[1:]):\n",
    "                pred += w * data_dfs[curr_id][di+1].values\n",
    "            pred += (1. - sum(weights)) * data_dfs[curr_id][-1].values\n",
    "            it[0] = log_loss(labels_test, pred)\n",
    "        it.iternext()\n",
    "    curr_id += 1"
   ]
  },
  {
   "cell_type": "code",
   "execution_count": 10,
   "metadata": {
    "collapsed": false
   },
   "outputs": [
    {
     "name": "stdout",
     "output_type": "stream",
     "text": [
      "(5, 6, 5, 5, 5, 5, 7, 7)\n"
     ]
    }
   ],
   "source": [
    "summed_w = np.sum(weight_results_array, axis=tot_subs-1) / 3\n",
    "print(summed_w.shape)"
   ]
  },
  {
   "cell_type": "code",
   "execution_count": 11,
   "metadata": {
    "collapsed": false
   },
   "outputs": [
    {
     "name": "stdout",
     "output_type": "stream",
     "text": [
      "0.430940155762\n",
      "0.427100601626 0.440500659128 0.424503060685\n"
     ]
    }
   ],
   "source": [
    "print(np.min(summed_w))\n",
    "min_arg = np.argmin(summed_w)\n",
    "min_point = np.unravel_index(min_arg, summed_w.shape)\n",
    "print(np.min(weight_results_array[...,0]), np.min(weight_results_array[...,1]), np.min(weight_results_array[...,2]))"
   ]
  },
  {
   "cell_type": "code",
   "execution_count": 13,
   "metadata": {
    "collapsed": false
   },
   "outputs": [
    {
     "name": "stdout",
     "output_type": "stream",
     "text": [
      "(0, 2, 3, 2, 0, 2, 1, 2)\n"
     ]
    }
   ],
   "source": [
    "print(min_point)"
   ]
  },
  {
   "cell_type": "code",
   "execution_count": 16,
   "metadata": {
    "collapsed": false
   },
   "outputs": [
    {
     "name": "stdout",
     "output_type": "stream",
     "text": [
      "[0.0, 0.07, 0.12000000000000002, 0.07, 0.0, 0.07, 0.020000000000000004, 0.07]\n"
     ]
    }
   ],
   "source": [
    "min_point = (0, 2, 3, 2, 0, 2, 1, 2)\n",
    "step_size = 0.05\n",
    "for j in range(tot_subs-1):\n",
    "    start_vals[j] = max(0., min_point[j] * step_size - 0.03)\n",
    "weights = [0.] * (tot_subs - 1)\n",
    "step_size = 0.01\n",
    "print(start_vals)\n",
    "w_shape = [7] * (tot_subs - 1)\n",
    "w_shape.append(3)\n",
    "weight_results_array = np.ones(w_shape)"
   ]
  },
  {
   "cell_type": "code",
   "execution_count": 17,
   "metadata": {
    "collapsed": false
   },
   "outputs": [
    {
     "name": "stdout",
     "output_type": "stream",
     "text": [
      "0\n",
      "1\n",
      "2\n"
     ]
    }
   ],
   "source": [
    "curr_id = 0\n",
    "sss = StratifiedShuffleSplit(df_train['renamed_labels'], n_iter=3, test_size=0.2, random_state=42)\n",
    "for train_index, test_index in sss:\n",
    "    print(curr_id)\n",
    "    it = np.nditer(weight_results_array[..., curr_id], flags=['multi_index'], op_flags=['writeonly'])\n",
    "    labels_test = df_train['renamed_labels'].values[test_index]\n",
    "    while not it.finished:\n",
    "        weights = [start_vals[mi[0]] + mi[1] * step_size for mi in enumerate(it.multi_index)]\n",
    "        if sum(weights) <= 1.:\n",
    "#             weights.append(1. - sum(weights))\n",
    "            pred = data_dfs[curr_id][0].values * weights[0]\n",
    "            for di, w in enumerate(weights[1:]):\n",
    "                pred += w * data_dfs[curr_id][di+1].values\n",
    "            pred += (1. - sum(weights)) * data_dfs[curr_id][-1].values\n",
    "            it[0] = log_loss(labels_test, pred)\n",
    "        it.iternext()\n",
    "    curr_id += 1"
   ]
  },
  {
   "cell_type": "code",
   "execution_count": 18,
   "metadata": {
    "collapsed": false
   },
   "outputs": [
    {
     "name": "stdout",
     "output_type": "stream",
     "text": [
      "(7, 7, 7, 7, 7, 7, 7, 7)\n"
     ]
    }
   ],
   "source": [
    "summed_w = np.sum(weight_results_array, axis=tot_subs-1) / 3\n",
    "print(summed_w.shape)"
   ]
  },
  {
   "cell_type": "code",
   "execution_count": 20,
   "metadata": {
    "collapsed": false
   },
   "outputs": [
    {
     "name": "stdout",
     "output_type": "stream",
     "text": [
      "0.43090004549\n",
      "0.0\n",
      "0.08\n",
      "0.17\n",
      "0.1\n",
      "0.0\n",
      "0.11\n",
      "0.06\n",
      "0.08\n",
      "0.4\n"
     ]
    }
   ],
   "source": [
    "print(np.min(summed_w))\n",
    "min_arg = np.argmin(summed_w)\n",
    "min_point = np.unravel_index(min_arg, summed_w.shape)\n",
    "last_w = 0.\n",
    "for j in range(tot_subs-1):\n",
    "    last_w += start_vals[j] + min_point[j] * step_size\n",
    "    print(start_vals[j] + min_point[j] * step_size)\n",
    "print(1. - last_w)"
   ]
  },
  {
   "cell_type": "code",
   "execution_count": null,
   "metadata": {
    "collapsed": true
   },
   "outputs": [],
   "source": []
  }
 ],
 "metadata": {
  "kernelspec": {
   "display_name": "Python 3",
   "language": "python",
   "name": "python3"
  },
  "language_info": {
   "codemirror_mode": {
    "name": "ipython",
    "version": 3
   },
   "file_extension": ".py",
   "mimetype": "text/x-python",
   "name": "python",
   "nbconvert_exporter": "python",
   "pygments_lexer": "ipython3",
   "version": "3.4.3"
  }
 },
 "nbformat": 4,
 "nbformat_minor": 0
}
