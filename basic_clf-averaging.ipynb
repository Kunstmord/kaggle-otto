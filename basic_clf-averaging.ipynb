{
 "cells": [
  {
   "cell_type": "code",
   "execution_count": 1,
   "metadata": {
    "collapsed": false
   },
   "outputs": [],
   "source": [
    "import numpy as np\n",
    "import pandas as pd\n",
    "from sklearn.ensemble import GradientBoostingClassifier, RandomForestClassifier\n",
    "import datetime"
   ]
  },
  {
   "cell_type": "code",
   "execution_count": 2,
   "metadata": {
    "collapsed": false
   },
   "outputs": [],
   "source": [
    "def now():\n",
    "    return '_'.join(str(datetime.datetime.now()).split())"
   ]
  },
  {
   "cell_type": "code",
   "execution_count": 3,
   "metadata": {
    "collapsed": true
   },
   "outputs": [],
   "source": [
    "mapping = {'nn_garf1_': ('2015-04-13_21:39:17.310471.csv', 0.46976),\n",
    "           'nn_katz1_': ('2015-04-29_12:08:50.306024.csv', 0.47205),\n",
    "           'nnlasagna3_': ('2015-04-05_16:54:09.136787.csv', 0.47092),\n",
    "           'cb_rf5_': ('2015-04-26_05:25:53.739000.csv', 0.46996),\n",
    "           'nn_dbn2_': ('2015-04-07_23:17:13.445133.csv', 0.47606),\n",
    "           'gb_lr05_4_': ('2015-04-13_00:37:50.424466.csv', 0.46114),\n",
    "           'xgb1_': ('2015-04-26_14:08:54.748001.csv', 0.44231),\n",
    "           'xgb3_': ('2015-04-28_16:32:26.187556.csv', 0.43306),\n",
    "           'garf_sum': ('2015-05-06_10:43:18.827734.csv', 0.46414),\n",
    "           'katz_sum': ('2015-05-06_10:50:46.827548.csv', 0.46282),\n",
    "           'lasagna_sum': ('2015-05-05_06:55:53.636235.csv',  0.46267),\n",
    "           'dbn_sum': ('2015-05-06_16:13:10.400575.csv', 0.0),\n",
    "           'kitty_sum': ('2015-05-09_14:48:49.741998.csv', 0.45835)}\n",
    "# this is just to understand which submissions I'm averaging"
   ]
  },
  {
   "cell_type": "code",
   "execution_count": 18,
   "metadata": {
    "collapsed": false
   },
   "outputs": [
    {
     "name": "stdout",
     "output_type": "stream",
     "text": [
      "1.0\n"
     ]
    }
   ],
   "source": [
    "to_avg = ('garf_sum', 'katz_sum', 'lasagna_sum', 'cb_rf5_', 'dbn_sum', 'gb_lr05_4_', 'xgb1_', 'xgb3_')\n",
    "to_avg = ('dbn_sum', 'katz_sum', 'lasagna_sum', 'cb_rf5_', 'gb_lr05_4_', 'xgb1_', 'kitty_sum', 'xgb3_')\n",
    "\n",
    "# 'katzs1_', 'lass1_', 'cb_rf5_', 'gb_lr05_4_', 'xgb1_', 'kittys1_', 'xgb3_'\n",
    "# 0.08\n",
    "# 0.17\n",
    "# 0.1\n",
    "# 0.11\n",
    "# 0.06\n",
    "# 0.08\n",
    "# 0.4\n",
    "w = (0.03, 0.07, 0.16, 0.1, 0.1, 0.06, 0.08, 0.4)  # the weights\n",
    "\n",
    "print(sum(w))\n",
    "names = [('submissions/' + mapping[n][0], w) for n, w in zip(to_avg, w)]"
   ]
  },
  {
   "cell_type": "code",
   "execution_count": 19,
   "metadata": {
    "collapsed": false
   },
   "outputs": [],
   "source": [
    "all_pds = [pd.read_csv(name[0]) for name in names]"
   ]
  },
  {
   "cell_type": "code",
   "execution_count": 20,
   "metadata": {
    "collapsed": false
   },
   "outputs": [],
   "source": [
    "test_size = all_pds[0]['id'].values.shape[0]"
   ]
  },
  {
   "cell_type": "code",
   "execution_count": 21,
   "metadata": {
    "collapsed": false
   },
   "outputs": [],
   "source": [
    "predict_dict = {'id': all_pds[0]['id'].values}\n",
    "for i in range(9):\n",
    "    predict_dict['Class_' + str(i + 1)] = np.zeros(test_size)\n",
    "    for j, name in enumerate(names):\n",
    "        predict_dict['Class_' + str(i + 1)] += all_pds[j]['Class_' + str(i + 1)].values * name[1]"
   ]
  },
  {
   "cell_type": "code",
   "execution_count": 22,
   "metadata": {
    "collapsed": false
   },
   "outputs": [],
   "source": [
    "df_sub = pd.DataFrame(predict_dict)"
   ]
  },
  {
   "cell_type": "code",
   "execution_count": 23,
   "metadata": {
    "collapsed": false
   },
   "outputs": [
    {
     "data": {
      "text/plain": [
       "Index(['Class_1', 'Class_2', 'Class_3', 'Class_4', 'Class_5', 'Class_6', 'Class_7', 'Class_8', 'Class_9', 'id'], dtype='object')"
      ]
     },
     "execution_count": 23,
     "metadata": {},
     "output_type": "execute_result"
    }
   ],
   "source": [
    "df_sub.columns"
   ]
  },
  {
   "cell_type": "code",
   "execution_count": 24,
   "metadata": {
    "collapsed": false
   },
   "outputs": [],
   "source": [
    "fname = 'submissions/' + now() + '.csv'\n",
    "df_sub.to_csv(fname, index=False)"
   ]
  },
  {
   "cell_type": "code",
   "execution_count": null,
   "metadata": {
    "collapsed": true
   },
   "outputs": [],
   "source": []
  }
 ],
 "metadata": {
  "kernelspec": {
   "display_name": "Python 3",
   "language": "python",
   "name": "python3"
  },
  "language_info": {
   "codemirror_mode": {
    "name": "ipython",
    "version": 3
   },
   "file_extension": ".py",
   "mimetype": "text/x-python",
   "name": "python",
   "nbconvert_exporter": "python",
   "pygments_lexer": "ipython3",
   "version": "3.4.3"
  }
 },
 "nbformat": 4,
 "nbformat_minor": 0
}
