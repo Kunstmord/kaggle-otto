{
 "cells": [
  {
   "cell_type": "code",
   "execution_count": 1,
   "metadata": {
    "collapsed": false
   },
   "outputs": [],
   "source": [
    "import numpy as np\n",
    "import pandas as pd\n",
    "from sklearn.ensemble import GradientBoostingClassifier, RandomForestClassifier, AdaBoostClassifier, BaggingClassifier\n",
    "import datetime"
   ]
  },
  {
   "cell_type": "code",
   "execution_count": 2,
   "metadata": {
    "collapsed": false
   },
   "outputs": [],
   "source": [
    "def now():\n",
    "    return '_'.join(str(datetime.datetime.now()).split())"
   ]
  },
  {
   "cell_type": "code",
   "execution_count": 3,
   "metadata": {
    "collapsed": false
   },
   "outputs": [],
   "source": [
    "df_train = pd.read_csv('raw_data/train.csv')\n",
    "df_test = pd.read_csv('raw_data/test.csv')"
   ]
  },
  {
   "cell_type": "code",
   "execution_count": 4,
   "metadata": {
    "collapsed": false
   },
   "outputs": [],
   "source": [
    "def convert_class_label_to_int(class_label):\n",
    "    return int(class_label[6:]) - 1"
   ]
  },
  {
   "cell_type": "code",
   "execution_count": 5,
   "metadata": {
    "collapsed": false
   },
   "outputs": [],
   "source": [
    "def find_means_stds(features_array):\n",
    "    means = [np.mean(features_array[:, i]) for i in range(features_array.shape[1])]\n",
    "    stds = [np.std(features_array[:, i]) for i in range(features_array.shape[1])]\n",
    "    return {'means': means, 'stds': stds}"
   ]
  },
  {
   "cell_type": "code",
   "execution_count": 6,
   "metadata": {
    "collapsed": false
   },
   "outputs": [],
   "source": [
    "def z_score_feature(feature_slice, mean, std):\n",
    "    return (feature_slice - mean) / std"
   ]
  },
  {
   "cell_type": "code",
   "execution_count": 7,
   "metadata": {
    "collapsed": false
   },
   "outputs": [],
   "source": [
    "renamed_labels = [convert_class_label_to_int(i) for i in df_train['target'].values]\n",
    "\n",
    "feature_columns = ['feat_' + str(i + 1) for i in range(93)]\n",
    "df_train['renamed_labels'] = renamed_labels"
   ]
  },
  {
   "cell_type": "code",
   "execution_count": 8,
   "metadata": {
    "collapsed": false
   },
   "outputs": [],
   "source": [
    "mstddict = find_means_stds(df_train[feature_columns].values)"
   ]
  },
  {
   "cell_type": "code",
   "execution_count": 9,
   "metadata": {
    "collapsed": false
   },
   "outputs": [],
   "source": [
    "for i in range(93):\n",
    "    df_train['feat_' + str(i + 1)] = z_score_feature(df_train['feat_' + str(i + 1)].values, mstddict['means'][i],\n",
    "                                                     mstddict['stds'][i])"
   ]
  },
  {
   "cell_type": "code",
   "execution_count": 10,
   "metadata": {
    "collapsed": false
   },
   "outputs": [],
   "source": [
    "for i in range(93):\n",
    "    df_test['feat_' + str(i + 1)] = z_score_feature(df_test['feat_' + str(i + 1)].values, mstddict['means'][i],\n",
    "                                                    mstddict['stds'][i])"
   ]
  },
  {
   "cell_type": "code",
   "execution_count": 11,
   "metadata": {
    "collapsed": false
   },
   "outputs": [],
   "source": [
    "# rf = AdaBoostClassifier(n_estimators=100)\n",
    "# clrf = RandomForestClassifier(n_estimators=400, max_features=25)\n",
    "# clf = AdaBoostClassifier(base_estimator=clrf, n_estimators=15)\n",
    "# clf2 = GradientBoostingClassifier(n_estimators=250, max_depth=8, max_features=15)\n",
    "\n",
    "clf = GradientBoostingClassifier(n_estimators=700, max_depth=7, max_features=20, learning_rate=0.03)"
   ]
  },
  {
   "cell_type": "code",
   "execution_count": 12,
   "metadata": {
    "collapsed": false
   },
   "outputs": [
    {
     "data": {
      "text/plain": [
       "GradientBoostingClassifier(init=None, learning_rate=0.03, loss='deviance',\n",
       "              max_depth=7, max_features=20, max_leaf_nodes=None,\n",
       "              min_samples_leaf=1, min_samples_split=2,\n",
       "              min_weight_fraction_leaf=0.0, n_estimators=700,\n",
       "              random_state=None, subsample=1.0, verbose=0,\n",
       "              warm_start=False)"
      ]
     },
     "execution_count": 12,
     "metadata": {},
     "output_type": "execute_result"
    }
   ],
   "source": [
    "clf.fit(df_train[feature_columns].values, df_train['renamed_labels'].values)"
   ]
  },
  {
   "cell_type": "code",
   "execution_count": 13,
   "metadata": {
    "collapsed": false
   },
   "outputs": [],
   "source": [
    "labels_pr = clf.predict_proba(df_test[feature_columns].values)\n",
    "labels_pr_tr = clf.predict_proba(df_train[feature_columns].values)"
   ]
  },
  {
   "cell_type": "code",
   "execution_count": 14,
   "metadata": {
    "collapsed": true
   },
   "outputs": [],
   "source": [
    "now_name = now()\n",
    "\n",
    "predict_dict = {'id': df_test['id'].values}\n",
    "for i in range(9):\n",
    "    predict_dict['Class_' + str(i + 1)] = labels_pr[:, i]\n",
    "df_sub = pd.DataFrame(predict_dict)\n",
    "\n",
    "fname = 'submissions/' + now_name + '.csv'\n",
    "df_sub.to_csv(fname, index=False)\n",
    "\n",
    "predict_dict = {'id': df_train['id'].values}\n",
    "for i in range(9):\n",
    "    predict_dict['Class_' + str(i + 1)] = labels_pr_tr[:, i]\n",
    "df_sub = pd.DataFrame(predict_dict)\n",
    "fname = 'train_predict/' + now_name + '.csv'\n",
    "df_sub.to_csv(fname, index=False)"
   ]
  },
  {
   "cell_type": "code",
   "execution_count": null,
   "metadata": {
    "collapsed": true
   },
   "outputs": [],
   "source": []
  }
 ],
 "metadata": {
  "kernelspec": {
   "display_name": "Python 3",
   "language": "python",
   "name": "python3"
  },
  "language_info": {
   "codemirror_mode": {
    "name": "ipython",
    "version": 3
   },
   "file_extension": ".py",
   "mimetype": "text/x-python",
   "name": "python",
   "nbconvert_exporter": "python",
   "pygments_lexer": "ipython3",
   "version": "3.4.3"
  }
 },
 "nbformat": 4,
 "nbformat_minor": 0
}
